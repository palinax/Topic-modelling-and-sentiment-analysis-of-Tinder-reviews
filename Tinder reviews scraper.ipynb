{
 "cells": [
  {
   "cell_type": "code",
   "execution_count": 49,
   "id": "4b0d6caa",
   "metadata": {},
   "outputs": [],
   "source": [
    "# ! pip install google-play-scraper"
   ]
  },
  {
   "cell_type": "code",
   "execution_count": 1,
   "id": "91b61afc",
   "metadata": {},
   "outputs": [],
   "source": [
    "from google_play_scraper import app\n",
    "from google_play_scraper import Sort, reviews\n",
    "import pandas as pd\n",
    "import numpy as np\n"
   ]
  },
  {
   "cell_type": "code",
   "execution_count": null,
   "id": "e8e59312",
   "metadata": {},
   "outputs": [],
   "source": [
    "result = reviews(\n",
    "    'com.tinder',\n",
    "    lang='en', \n",
    "    country='us', \n",
    "    sort=Sort.NEWEST,\n",
    "    count=10000\n",
    ")"
   ]
  },
  {
   "cell_type": "code",
   "execution_count": 84,
   "id": "bb43257e",
   "metadata": {},
   "outputs": [],
   "source": [
    "reviews = result[0] if len(result) > 0 and isinstance(result[0], list) else []\n",
    "df = pd.DataFrame(reviews)"
   ]
  },
  {
   "cell_type": "code",
   "execution_count": 111,
   "id": "e6ffd62a",
   "metadata": {},
   "outputs": [],
   "source": [
    "df.to_csv('tinder_reviews.csv', index=False)"
   ]
  }
 ],
 "metadata": {
  "kernelspec": {
   "display_name": "Python 3 (ipykernel)",
   "language": "python",
   "name": "python3"
  },
  "language_info": {
   "codemirror_mode": {
    "name": "ipython",
    "version": 3
   },
   "file_extension": ".py",
   "mimetype": "text/x-python",
   "name": "python",
   "nbconvert_exporter": "python",
   "pygments_lexer": "ipython3",
   "version": "3.11.5"
  }
 },
 "nbformat": 4,
 "nbformat_minor": 5
}
